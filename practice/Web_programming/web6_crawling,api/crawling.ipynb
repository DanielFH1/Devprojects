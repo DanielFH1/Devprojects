{
  "nbformat": 4,
  "nbformat_minor": 0,
  "metadata": {
    "colab": {
      "provenance": [],
      "authorship_tag": "ABX9TyPyOrQ+8cGrkcNVXlZACngL",
      "include_colab_link": true
    },
    "kernelspec": {
      "name": "python3",
      "display_name": "Python 3"
    },
    "language_info": {
      "name": "python"
    }
  },
  "cells": [
    {
      "cell_type": "markdown",
      "metadata": {
        "id": "view-in-github",
        "colab_type": "text"
      },
      "source": [
        "<a href=\"https://colab.research.google.com/github/DanielFH1/Devprojects/blob/master/Untitled1.ipynb\" target=\"_parent\"><img src=\"https://colab.research.google.com/assets/colab-badge.svg\" alt=\"Open In Colab\"/></a>"
      ]
    },
    {
      "cell_type": "code",
      "execution_count": null,
      "metadata": {
        "id": "RSg9ghCe-8Mf"
      },
      "outputs": [],
      "source": [
        "import requests\n",
        "import json\n",
        "\n",
        "url = \"https://kauth.kakao.com/oauth/token\"\n",
        "\n",
        "data = {\n",
        "\"grant_type\" : \"authorization_code\",\n",
        "\"client_id\" : \"rest api\",\n",
        "\"redirect_uri\" : \"http://localhost\",\n",
        "\"code\" : \"access code\"\n",
        "}\n",
        "\n",
        "response = requests.post(url, data=data)\n",
        "tokens = response.json()\n",
        "\n",
        "print(tokens)"
      ]
    },
    {
      "cell_type": "code",
      "source": [
        "import json\n",
        "import requests\n",
        "\n",
        "url = \"https://kapi.kakao.com/v2/api/talk/memo/default/send\"\n",
        "\n",
        "#사용자 토큰\n",
        "headers = {\"Authorization\": \"Bearer \" + \"access code\"}\n",
        "\n",
        "data = {\"template_object\" : json.dumps({\"object_type\" : \"text\", \"text\" : \"Don't worry kid, everything will be fine\" , \"link\" : {\"web_url\" : \"www.google.com\"} }) }\n",
        "\n",
        "response = requests.post(url,headers = headers, data=data)\n",
        "print(response.status_code)\n",
        "\n",
        "if response.json().get(\"result_code\") == 0:\n",
        "    print(\"메세지를 성공적으로 보냄\")\n",
        "else:\n",
        "    print(\"메세지가 보내지지 않음. errror: \" + str(response.json()))\n",
        "\n"
      ],
      "metadata": {
        "id": "Zoo84RgD_CaS"
      },
      "execution_count": null,
      "outputs": []
    },
    {
      "cell_type": "code",
      "source": [
        "import json\n",
        "import requests\n",
        "\n",
        "url = \"https://kapi.kakao.com/v2/api/talk/memo/default/send\"\n",
        "\n",
        "#사용자 토큰\n",
        "headers = {\"Authorization\": \"Bearer \" + \"access code\"}\n",
        "\n",
        "template = {\"object_type\" :\"list\",\n",
        "           \"header_title\" : \"승우님의 이상형\",\n",
        "           \"header_link\" : {\n",
        "               \"web_url\" : \"www.google.com\",\n",
        "               \"mobile_web_url\" : \"www.google.com\"\n",
        "           },\n",
        "            \"contents\": [\n",
        "                {\n",
        "                    \"title\" : \"1. 팜하니\",\n",
        "                    \"description\" : \"New jeans\",\n",
        "                    \"image_url\" : \"https://external-content.duckduckgo.com/iu/?u=https%3A%2F%2Fi.pinimg.com%2Foriginals%2Fa5%2Fa8%2Faa%2Fa5a8aad5ec8b7fe07ea8e7cc64718032.jpg&f=1&nofb=1&ipt=d54ff8101ea1ff1f6961d926ef0f2363917ffa317e6f6825f08445aee6ba56be&ipo=images\",\n",
        "                    \"image_width\" : 50, \"image_height\" : 50,\n",
        "                    \"link\" : {\n",
        "                        \"web_url\" : \"https://namu.wiki/w/하니(NewJeans)\",\n",
        "                        \"mobile_web_url\" : \"https://namu.wiki/w/하니(NewJeans)\"} },\n",
        "                {\n",
        "                    \"title\": \"2. 김지영\",\n",
        "                    \"description\" : \"하트시그널\",\n",
        "                    \"image_url\" : \"https://image.ajunews.com/content/image/2023/05/18/20230518003637701507.jpg\",\n",
        "                    \"image_width\" : 50, \"image_height\" : 50,\n",
        "                    \"link\" : {\n",
        "                        \"web_url\" : \"https://namu.wiki/w/김지영(1995)\",\n",
        "                        \"mobile_web_url\" : \"https://namu.wiki/w/김지영(1995)\"} }\n",
        "                    ],\n",
        "            \"buttons\" : [\n",
        "                {\n",
        "                    \"title\" : \"웹으로 이동\",\n",
        "                    \"link\" : {\n",
        "                        \"web_url\" : \"www.google.com\",\n",
        "                        \"mobile_web_url\" : \"www.google.com\"} } ] }\n",
        "\n",
        "data = { \"template_object\" : json.dumps(template)}\n",
        "res = requests.post(url, data=data, headers=headers)\n",
        "print(response.status_code)\n",
        "\n",
        "if response.json().get(\"result_code\") == 0:\n",
        "    print(\"메세지를 성공적으로 보냄\")\n",
        "else:\n",
        "    print(\"메세지가 보내지지 않음. errror: \" + str(response.json()))\n",
        "\n"
      ],
      "metadata": {
        "id": "P-j4uP1c_DkX"
      },
      "execution_count": null,
      "outputs": []
    },
    {
      "cell_type": "code",
      "source": [
        "!git clone https://github.com/DanielFH1/Devprojects.git"
      ],
      "metadata": {
        "colab": {
          "base_uri": "https://localhost:8080/"
        },
        "id": "SGW4JxFQ_mGx",
        "outputId": "8de969b3-4ed5-4803-df63-3c0dc9b37324"
      },
      "execution_count": null,
      "outputs": [
        {
          "output_type": "stream",
          "name": "stdout",
          "text": [
            "Cloning into 'Devprojects'...\n",
            "remote: Enumerating objects: 56, done.\u001b[K\n",
            "remote: Counting objects: 100% (56/56), done.\u001b[K\n",
            "remote: Compressing objects: 100% (45/45), done.\u001b[K\n",
            "remote: Total 56 (delta 1), reused 50 (delta 0), pack-reused 0 (from 0)\u001b[K\n",
            "Receiving objects: 100% (56/56), 15.48 MiB | 13.26 MiB/s, done.\n",
            "Resolving deltas: 100% (1/1), done.\n"
          ]
        }
      ]
    },
    {
      "cell_type": "code",
      "source": [
        "!git branch"
      ],
      "metadata": {
        "id": "o1euisOEAfS5",
        "outputId": "9602bc7b-ea01-4bfa-a430-1c17e8943306",
        "colab": {
          "base_uri": "https://localhost:8080/"
        }
      },
      "execution_count": null,
      "outputs": [
        {
          "output_type": "stream",
          "name": "stdout",
          "text": [
            "fatal: not a git repository (or any of the parent directories): .git\n"
          ]
        }
      ]
    }
  ]
}
